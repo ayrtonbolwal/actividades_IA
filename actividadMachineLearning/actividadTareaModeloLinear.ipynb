{
 "cells": [
  {
   "cell_type": "markdown",
   "id": "724e9334",
   "metadata": {},
   "source": [
    "# Práctica RL\n",
    "\n",
    "## Importación de librerías\n",
    "\n",
    "### Librerías a ocupar\n",
    "\n",
    "**Numpy**: es una biblioteca de Python que se utiliza principalmente para el procesamiento de datos numéricos. Proporciona soporte para matrices y arreglos multidimensionales, junto con una amplia variedad de funciones matemáticas para realizar operaciones en estos arreglos de manera eficiente.\n",
    "\n",
    "**Pandas**: es una biblioteca de Python ampliamente utilizada para la manipulación y el análisis de datos. Proporciona estructuras de datos de alto nivel y herramientas para trabajar con datos tabulares, como hojas de cálculo, bases de datos y archivos CSV.\n",
    "\n",
    "**Seaborn**: es una biblioteca de Python que se utiliza principalmente para la visualización de datos estadísticos. Se basa en Matplotlib, otra biblioteca de visualización en Python, y proporciona una interfaz de alto nivel para crear gráficos estadísticos atractivos y informativos con facilidad. Seaborn es especialmente útil cuando se trabaja con DataFrames de Pandas, ya que está diseñado para trabajar de manera integrada con Pandas.\n",
    "\n",
    "**Matplotlib.pyplot**: es un módulo de Matplotlib, una de las bibliotecas de visualización más populares en Python. pyplot proporciona una interfaz de alto nivel que simplifica la creación de gráficos y visualizaciones de datos en Python.\n",
    "\n",
    "**Sklearn**: scikit-learn, comúnmente abreviado como sklearn, es una biblioteca de Python ampliamente utilizada para el aprendizaje automático y la minería de datos. Proporciona una amplia variedad de herramientas y algoritmos para realizar tareas relacionadas con la clasificación, regresión, agrupamiento, reducción de la dimensionalidad, selección de modelos y evaluación de modelos, entre otras. "
   ]
  },
  {
   "cell_type": "code",
   "execution_count": 2,
   "id": "a817452d",
   "metadata": {},
   "outputs": [],
   "source": [
    "import numpy as np\n",
    "import pandas as pd\n",
    "import seaborn as sb\n",
    "import matplotlib.pyplot as plt\n",
    "from sklearn import linear_model\n",
    "from sklearn.metrics import mean_squared_error, r2_score"
   ]
  },
  {
   "cell_type": "markdown",
   "id": "ca07201e",
   "metadata": {},
   "source": [
    "## Pandas y el dataSet\n",
    "\n",
    "Cargamos el CSV en el dataFrame:"
   ]
  },
  {
   "cell_type": "code",
   "execution_count": 3,
   "id": "26aac5e3",
   "metadata": {},
   "outputs": [],
   "source": [
    "data = pd.read_csv(\"datasets/articulos_ml.csv\", sep = \",\")"
   ]
  },
  {
   "cell_type": "markdown",
   "id": "65d0b0c2",
   "metadata": {},
   "source": [
    "Vemos las dimensiones de registros y columnas:"
   ]
  },
  {
   "cell_type": "code",
   "execution_count": 4,
   "id": "233c16ba",
   "metadata": {},
   "outputs": [
    {
     "data": {
      "text/plain": [
       "(161, 8)"
      ]
     },
     "execution_count": 4,
     "metadata": {},
     "output_type": "execute_result"
    }
   ],
   "source": [
    "data.shape"
   ]
  },
  {
   "cell_type": "markdown",
   "id": "6e20eb38",
   "metadata": {},
   "source": [
    "Mostramos el encabezado del dataFrame:"
   ]
  },
  {
   "cell_type": "code",
   "execution_count": 5,
   "id": "a1067250",
   "metadata": {},
   "outputs": [
    {
     "data": {
      "text/html": [
       "<div>\n",
       "<style scoped>\n",
       "    .dataframe tbody tr th:only-of-type {\n",
       "        vertical-align: middle;\n",
       "    }\n",
       "\n",
       "    .dataframe tbody tr th {\n",
       "        vertical-align: top;\n",
       "    }\n",
       "\n",
       "    .dataframe thead th {\n",
       "        text-align: right;\n",
       "    }\n",
       "</style>\n",
       "<table border=\"1\" class=\"dataframe\">\n",
       "  <thead>\n",
       "    <tr style=\"text-align: right;\">\n",
       "      <th></th>\n",
       "      <th>Title</th>\n",
       "      <th>url</th>\n",
       "      <th>Word count</th>\n",
       "      <th># of Links</th>\n",
       "      <th># of comments</th>\n",
       "      <th># Images video</th>\n",
       "      <th>Elapsed days</th>\n",
       "      <th># Shares</th>\n",
       "    </tr>\n",
       "  </thead>\n",
       "  <tbody>\n",
       "    <tr>\n",
       "      <th>0</th>\n",
       "      <td>What is Machine Learning and how do we use it ...</td>\n",
       "      <td>https://blog.signals.network/what-is-machine-l...</td>\n",
       "      <td>1888</td>\n",
       "      <td>1</td>\n",
       "      <td>2.0</td>\n",
       "      <td>2</td>\n",
       "      <td>34</td>\n",
       "      <td>200000</td>\n",
       "    </tr>\n",
       "    <tr>\n",
       "      <th>1</th>\n",
       "      <td>10 Companies Using Machine Learning in Cool Ways</td>\n",
       "      <td>NaN</td>\n",
       "      <td>1742</td>\n",
       "      <td>9</td>\n",
       "      <td>NaN</td>\n",
       "      <td>9</td>\n",
       "      <td>5</td>\n",
       "      <td>25000</td>\n",
       "    </tr>\n",
       "    <tr>\n",
       "      <th>2</th>\n",
       "      <td>How Artificial Intelligence Is Revolutionizing...</td>\n",
       "      <td>NaN</td>\n",
       "      <td>962</td>\n",
       "      <td>6</td>\n",
       "      <td>0.0</td>\n",
       "      <td>1</td>\n",
       "      <td>10</td>\n",
       "      <td>42000</td>\n",
       "    </tr>\n",
       "    <tr>\n",
       "      <th>3</th>\n",
       "      <td>Dbrain and the Blockchain of Artificial Intell...</td>\n",
       "      <td>NaN</td>\n",
       "      <td>1221</td>\n",
       "      <td>3</td>\n",
       "      <td>NaN</td>\n",
       "      <td>2</td>\n",
       "      <td>68</td>\n",
       "      <td>200000</td>\n",
       "    </tr>\n",
       "    <tr>\n",
       "      <th>4</th>\n",
       "      <td>Nasa finds entire solar system filled with eig...</td>\n",
       "      <td>NaN</td>\n",
       "      <td>2039</td>\n",
       "      <td>1</td>\n",
       "      <td>104.0</td>\n",
       "      <td>4</td>\n",
       "      <td>131</td>\n",
       "      <td>200000</td>\n",
       "    </tr>\n",
       "  </tbody>\n",
       "</table>\n",
       "</div>"
      ],
      "text/plain": [
       "                                               Title  \\\n",
       "0  What is Machine Learning and how do we use it ...   \n",
       "1   10 Companies Using Machine Learning in Cool Ways   \n",
       "2  How Artificial Intelligence Is Revolutionizing...   \n",
       "3  Dbrain and the Blockchain of Artificial Intell...   \n",
       "4  Nasa finds entire solar system filled with eig...   \n",
       "\n",
       "                                                 url  Word count  # of Links  \\\n",
       "0  https://blog.signals.network/what-is-machine-l...        1888           1   \n",
       "1                                                NaN        1742           9   \n",
       "2                                                NaN         962           6   \n",
       "3                                                NaN        1221           3   \n",
       "4                                                NaN        2039           1   \n",
       "\n",
       "   # of comments  # Images video  Elapsed days  # Shares  \n",
       "0            2.0               2            34    200000  \n",
       "1            NaN               9             5     25000  \n",
       "2            0.0               1            10     42000  \n",
       "3            NaN               2            68    200000  \n",
       "4          104.0               4           131    200000  "
      ]
     },
     "execution_count": 5,
     "metadata": {},
     "output_type": "execute_result"
    }
   ],
   "source": [
    "data.head()"
   ]
  },
  {
   "cell_type": "markdown",
   "id": "ebaba3ad",
   "metadata": {},
   "source": [
    "Visualizamos las estadísticas proporcionadas por el método describe de pandas:"
   ]
  },
  {
   "cell_type": "code",
   "execution_count": 6,
   "id": "5f84e08f",
   "metadata": {},
   "outputs": [
    {
     "data": {
      "text/html": [
       "<div>\n",
       "<style scoped>\n",
       "    .dataframe tbody tr th:only-of-type {\n",
       "        vertical-align: middle;\n",
       "    }\n",
       "\n",
       "    .dataframe tbody tr th {\n",
       "        vertical-align: top;\n",
       "    }\n",
       "\n",
       "    .dataframe thead th {\n",
       "        text-align: right;\n",
       "    }\n",
       "</style>\n",
       "<table border=\"1\" class=\"dataframe\">\n",
       "  <thead>\n",
       "    <tr style=\"text-align: right;\">\n",
       "      <th></th>\n",
       "      <th>Word count</th>\n",
       "      <th># of Links</th>\n",
       "      <th># of comments</th>\n",
       "      <th># Images video</th>\n",
       "      <th>Elapsed days</th>\n",
       "      <th># Shares</th>\n",
       "    </tr>\n",
       "  </thead>\n",
       "  <tbody>\n",
       "    <tr>\n",
       "      <th>count</th>\n",
       "      <td>161.000000</td>\n",
       "      <td>161.000000</td>\n",
       "      <td>129.000000</td>\n",
       "      <td>161.000000</td>\n",
       "      <td>161.000000</td>\n",
       "      <td>161.000000</td>\n",
       "    </tr>\n",
       "    <tr>\n",
       "      <th>mean</th>\n",
       "      <td>1808.260870</td>\n",
       "      <td>9.739130</td>\n",
       "      <td>8.782946</td>\n",
       "      <td>3.670807</td>\n",
       "      <td>98.124224</td>\n",
       "      <td>27948.347826</td>\n",
       "    </tr>\n",
       "    <tr>\n",
       "      <th>std</th>\n",
       "      <td>1141.919385</td>\n",
       "      <td>47.271625</td>\n",
       "      <td>13.142822</td>\n",
       "      <td>3.418290</td>\n",
       "      <td>114.337535</td>\n",
       "      <td>43408.006839</td>\n",
       "    </tr>\n",
       "    <tr>\n",
       "      <th>min</th>\n",
       "      <td>250.000000</td>\n",
       "      <td>0.000000</td>\n",
       "      <td>0.000000</td>\n",
       "      <td>1.000000</td>\n",
       "      <td>1.000000</td>\n",
       "      <td>0.000000</td>\n",
       "    </tr>\n",
       "    <tr>\n",
       "      <th>25%</th>\n",
       "      <td>990.000000</td>\n",
       "      <td>3.000000</td>\n",
       "      <td>2.000000</td>\n",
       "      <td>1.000000</td>\n",
       "      <td>31.000000</td>\n",
       "      <td>2800.000000</td>\n",
       "    </tr>\n",
       "    <tr>\n",
       "      <th>50%</th>\n",
       "      <td>1674.000000</td>\n",
       "      <td>5.000000</td>\n",
       "      <td>6.000000</td>\n",
       "      <td>3.000000</td>\n",
       "      <td>62.000000</td>\n",
       "      <td>16458.000000</td>\n",
       "    </tr>\n",
       "    <tr>\n",
       "      <th>75%</th>\n",
       "      <td>2369.000000</td>\n",
       "      <td>7.000000</td>\n",
       "      <td>12.000000</td>\n",
       "      <td>5.000000</td>\n",
       "      <td>124.000000</td>\n",
       "      <td>35691.000000</td>\n",
       "    </tr>\n",
       "    <tr>\n",
       "      <th>max</th>\n",
       "      <td>8401.000000</td>\n",
       "      <td>600.000000</td>\n",
       "      <td>104.000000</td>\n",
       "      <td>22.000000</td>\n",
       "      <td>1002.000000</td>\n",
       "      <td>350000.000000</td>\n",
       "    </tr>\n",
       "  </tbody>\n",
       "</table>\n",
       "</div>"
      ],
      "text/plain": [
       "        Word count  # of Links  # of comments  # Images video  Elapsed days  \\\n",
       "count   161.000000  161.000000     129.000000      161.000000    161.000000   \n",
       "mean   1808.260870    9.739130       8.782946        3.670807     98.124224   \n",
       "std    1141.919385   47.271625      13.142822        3.418290    114.337535   \n",
       "min     250.000000    0.000000       0.000000        1.000000      1.000000   \n",
       "25%     990.000000    3.000000       2.000000        1.000000     31.000000   \n",
       "50%    1674.000000    5.000000       6.000000        3.000000     62.000000   \n",
       "75%    2369.000000    7.000000      12.000000        5.000000    124.000000   \n",
       "max    8401.000000  600.000000     104.000000       22.000000   1002.000000   \n",
       "\n",
       "            # Shares  \n",
       "count     161.000000  \n",
       "mean    27948.347826  \n",
       "std     43408.006839  \n",
       "min         0.000000  \n",
       "25%      2800.000000  \n",
       "50%     16458.000000  \n",
       "75%     35691.000000  \n",
       "max    350000.000000  "
      ]
     },
     "execution_count": 6,
     "metadata": {},
     "output_type": "execute_result"
    }
   ],
   "source": [
    "data.describe()"
   ]
  },
  {
   "cell_type": "markdown",
   "id": "8d1b9d43",
   "metadata": {},
   "source": [
    "Visualizamos las características de entrada:\n",
    "\n",
    "**data.drop(['Title', 'url', 'Elapsed days'], axis=1)**: Esta línea de código utiliza el método drop() de un DataFrame llamado data. El propósito de esta línea es eliminar las columnas llamadas 'Title', 'url' y 'Elapsed days' del DataFrame data. El argumento axis=1 indica que las columnas deben eliminarse (en oposición a las filas, que se eliminarían si axis=0).\n",
    "\n",
    "**.hist(bins=100)**: Después de eliminar las columnas mencionadas en la línea anterior, se está generando un histograma de los datos resultantes. El método .hist() se utiliza para crear un histograma de los datos presentes en el DataFrame. El argumento bins=100 indica que se deben dividir los datos en 100 intervalos o \"bins\" para construir el histograma."
   ]
  },
  {
   "cell_type": "code",
   "execution_count": 7,
   "id": "4737ae7b",
   "metadata": {},
   "outputs": [
    {
     "data": {
      "image/png": "[encoded data removed]",
      "text/plain": [
       "<Figure size 640x480 with 6 Axes>"
      ]
     },
     "metadata": {},
     "output_type": "display_data"
    }
   ],
   "source": [
    "data.drop(['Title', 'url', 'Elapsed days'], axis = 1).hist(bins = 100)\n",
    "plt.show()"
   ]
  },
  {
   "cell_type": "markdown",
   "id": "e228838d",
   "metadata": {},
   "source": [
    "La siguiente línea de código se utiliza para filtrar un DataFrame llamado data y crear un nuevo DataFrame llamado filtered_data basado en ciertas condiciones. Aquí está la explicación de esta línea:\n",
    "\n",
    "- data['Word count'] <= 3500 y data['# Shares'] <= 80000 son dos condiciones booleanas que se aplican a las columnas del DataFrame data. En particular, la primera condición verifica si el valor en la columna 'Word count' es menor o igual a 3500, y la segunda condición verifica si el valor en la columna '# Shares' es menor o igual a 80000.\n",
    "\n",
    "- data[(condición_1) & (condición_2)] **es una operación de indexación booleana que selecciona las filas del DataFrame data que cumplen con ambas condiciones.** En otras palabras, esta expresión filtra las filas de data en las que tanto la condición 1 como la condición 2 son verdaderas.\n",
    "\n",
    "Este nuevo DataFrame contiene solo las filas de data que cumplen con las condiciones especificadas."
   ]
  },
  {
   "cell_type": "code",
   "execution_count": 12,
   "id": "79f5f77f",
   "metadata": {},
   "outputs": [],
   "source": [
    "filtered_data = data[(data['Word count'] <= 3500) & (data['# Shares'] <= 80000)]"
   ]
  },
  {
   "cell_type": "code",
   "execution_count": 17,
   "id": "e232930f",
   "metadata": {},
   "outputs": [],
   "source": [
    "colores = ['orange', 'blue']\n",
    "tamanios = [5, 5]\n",
    "\n",
    "f1 = filtered_data['Word count'].values\n",
    "f2 = filtered_data['# Shares'].values"
   ]
  },
  {
   "cell_type": "code",
   "execution_count": 18,
   "id": "f8b64703",
   "metadata": {},
   "outputs": [
    {
     "name": "stdout",
     "output_type": "stream",
     "text": [
      "[1742  962  761  753 1118 1581  256 1267  971  369  635 1631  571 1333\n",
      "  364  515 1135  666  787  421 1065  908 1260  950 1761  911  971  458\n",
      "  458  782 2080  250 1763  650 1184  957  627  895 1097 1262 1738 1813\n",
      " 2400  662  800  367  507  992  499  619 1152 2363  988  759 1098 2797\n",
      " 1120 2488 2049 2542 1011 2189 1864  990 1741 1229 2975 1864 2460 2136\n",
      " 2833 1995 2332 1998 3442 2696 1913 1858 2457 2592 1718 1293 3023 3485\n",
      " 2093 1490 1238 2583 1007  978 3019 2347 2224 1778 1150 2528 2486 2317\n",
      " 2369 1612 1136 2721 3480 1143 2428 2877  776 1284 1145 1793 2904 1473\n",
      " 2894 1932 3225 3185 2068 2354 2921 2211 2865 1674 2282 2636  774 1030\n",
      "  734  743 1514 2854 1443 1817 1266 2275 1264 2212 1871 2513 1443  912\n",
      " 2366 1542 1201 3239 2566 2089 1530  953]\n"
     ]
    }
   ],
   "source": [
    "print(f1)"
   ]
  },
  {
   "cell_type": "code",
   "execution_count": 19,
   "id": "31cadb3d",
   "metadata": {},
   "outputs": [
    {
     "name": "stdout",
     "output_type": "stream",
     "text": [
      "[25000 42000 21000 77000 59400 35000 29000 37000 67300 60100  3200 37000\n",
      " 55000 54800 54600 27000 20000  2400  3800 26000 14000 14000  3000  5600\n",
      "  1500  8400  5300  2500   757  6400  3600    22  2300  2800  1300  2500\n",
      "  4500   422  1600   715   907  2800  1300  3000  2800  3300  2600  2300\n",
      "  1400  1800   867  1500   631  1200   950  1200   196  1100   668   424\n",
      "     8   367 42406  1733 35691 11061 51319 30756 58425 48060     0  4988\n",
      " 27984 45455 76585 24264  5261 25548     0 56376 13315 27476 55170   871\n",
      " 39767 16390 23832 12269 10574 24206 13586 21123 32248  8001 23288 53720\n",
      " 53449 52712 39681 39091 28116 25850 20880 17145 57058 19420  3298 31137\n",
      "  5153 34515  7260     0 23152 30912 34669 12740 36707  1177 48927 11055\n",
      " 49421 23018 54198   659 16641 19828 15047 16160 34065 17124 15512  9085\n",
      " 16458 55738 18012 35392 26194 55914  3968  1824  2958 22359  8707  3239\n",
      " 25019 49614 33660  5956]\n"
     ]
    }
   ],
   "source": [
    "print(f2)"
   ]
  },
  {
   "cell_type": "markdown",
   "id": "ccb8c828",
   "metadata": {},
   "source": [
    "Utiliza la función scatter de Matplotlib para crear un gráfico de dispersión (scatter plot) con datos.\n",
    "\n",
    "plt.scatter: Esto invoca la función scatter de la biblioteca Matplotlib para crear el gráfico de dispersión.\n",
    "\n",
    "f1 y f2: Estos son los valores que se representan en el eje x (horizontal) y el eje y (vertical) del gráfico de dispersión. f1 y f2 son variables que contienen los valores de los dos atributos o características que deseas representar en el gráfico.\n",
    "\n",
    "c = asignar: El argumento c se utiliza para asignar colores a los puntos en el gráfico de dispersión. asignar es una variable que contiene información sobre qué color se asignará a cada punto del gráfico. Puede ser una lista de colores o una variable que contiene valores categóricos que determinan el color de cada punto.\n",
    "\n",
    "s = tamanios[0]: El argumento s se utiliza para establecer el tamaño de los puntos en el gráfico de dispersión. tamanios[0] es una variable que contiene información sobre los tamaños de los puntos. Puede ser una lista de tamaños o una variable que contiene valores numéricos que determinan el tamaño de cada punto."
   ]
  },
  {
   "cell_type": "code",
   "execution_count": 20,
   "id": "99386c09",
   "metadata": {},
   "outputs": [
    {
     "data": {
      "image/png": "[encoded data removed]",
      "text/plain": [
       "<Figure size 640x480 with 1 Axes>"
      ]
     },
     "metadata": {},
     "output_type": "display_data"
    }
   ],
   "source": [
    "asignar = []\n",
    "\n",
    "for index, row in filtered_data.iterrows():\n",
    "    if(row['Word count'] > 1808):\n",
    "        asignar.append(colores[0])\n",
    "    else:\n",
    "        asignar.append(colores[1])\n",
    "\n",
    "plt.scatter(f1, f2, c = asignar, s = tamanios[0])\n",
    "plt.show()"
   ]
  },
  {
   "cell_type": "code",
   "execution_count": 21,
   "id": "6b7ca290",
   "metadata": {},
   "outputs": [
    {
     "name": "stdout",
     "output_type": "stream",
     "text": [
      "['blue', 'blue', 'blue', 'blue', 'blue', 'blue', 'blue', 'blue', 'blue', 'blue', 'blue', 'blue', 'blue', 'blue', 'blue', 'blue', 'blue', 'blue', 'blue', 'blue', 'blue', 'blue', 'blue', 'blue', 'blue', 'blue', 'blue', 'blue', 'blue', 'blue', 'orange', 'blue', 'blue', 'blue', 'blue', 'blue', 'blue', 'blue', 'blue', 'blue', 'blue', 'orange', 'orange', 'blue', 'blue', 'blue', 'blue', 'blue', 'blue', 'blue', 'blue', 'orange', 'blue', 'blue', 'blue', 'orange', 'blue', 'orange', 'orange', 'orange', 'blue', 'orange', 'orange', 'blue', 'blue', 'blue', 'orange', 'orange', 'orange', 'orange', 'orange', 'orange', 'orange', 'orange', 'orange', 'orange', 'orange', 'orange', 'orange', 'orange', 'blue', 'blue', 'orange', 'orange', 'orange', 'blue', 'blue', 'orange', 'blue', 'blue', 'orange', 'orange', 'orange', 'blue', 'blue', 'orange', 'orange', 'orange', 'orange', 'blue', 'blue', 'orange', 'orange', 'blue', 'orange', 'orange', 'blue', 'blue', 'blue', 'blue', 'orange', 'blue', 'orange', 'orange', 'orange', 'orange', 'orange', 'orange', 'orange', 'orange', 'orange', 'blue', 'orange', 'orange', 'blue', 'blue', 'blue', 'blue', 'blue', 'orange', 'blue', 'orange', 'blue', 'orange', 'blue', 'orange', 'orange', 'orange', 'blue', 'blue', 'orange', 'blue', 'blue', 'orange', 'orange', 'orange', 'blue', 'blue']\n"
     ]
    }
   ],
   "source": [
    "print(asignar)"
   ]
  },
  {
   "cell_type": "markdown",
   "id": "6e0f6d1f",
   "metadata": {},
   "source": [
    "# Entrenamiento\n",
    "\n",
    "A continuación haremosuso de las librerías de pandas, de sklearn.linear_model más específicamente del Linear Regression y básicamente eso. Para empezar haremos una arreglo que contendrá los datos X que serán los datos de la columna Word count, y los datos de Y que representarán a la columna de Shares. Ojo! Los shares no se guardarán en un array, sino que serán una colección dentro de una variable. "
   ]
  },
  {
   "cell_type": "code",
   "execution_count": 30,
   "id": "bd15f889",
   "metadata": {},
   "outputs": [],
   "source": [
    "dataX = filtered_data[[\"Word count\"]]\n",
    "x_train = np.array(dataX)\n",
    "y_train = filtered_data['# Shares'].values"
   ]
  },
  {
   "cell_type": "markdown",
   "id": "55df6403",
   "metadata": {},
   "source": [
    "Vamos acrear un objeto de Modelo de Regresión Linear y lo guardaremos dentro de la variable reglin (regresion lineal)"
   ]
  },
  {
   "cell_type": "code",
   "execution_count": 32,
   "id": "771d46a1",
   "metadata": {},
   "outputs": [],
   "source": [
    "reglin = linear_model.LinearRegression()"
   ]
  },
  {
   "cell_type": "markdown",
   "id": "d2e6724d",
   "metadata": {},
   "source": [
    "Entrenamos el modelo, en este caso fit es un método de reglin que se utiliza para ajustar (entrenar) el modelo de regresión lineal con datos de entrenamiento. Aquí, x_train representa las características (variables independientes) de entrenamiento y y_train representa las etiquetas o valores objetivos correspondientes (variable dependiente) en el conjunto de entrenamiento."
   ]
  },
  {
   "cell_type": "code",
   "execution_count": 34,
   "id": "eb6c1a02",
   "metadata": {},
   "outputs": [
    {
     "data": {
      "text/html": [
       "<style>#sk-container-id-2 {color: black;}#sk-container-id-2 pre{padding: 0;}#sk-container-id-2 div.sk-toggleable {background-color: white;}#sk-container-id-2 label.sk-toggleable__label {cursor: pointer;display: block;width: 100%;margin-bottom: 0;padding: 0.3em;box-sizing: border-box;text-align: center;}#sk-container-id-2 label.sk-toggleable__label-arrow:before {content: \"▸\";float: left;margin-right: 0.25em;color: #696969;}#sk-container-id-2 label.sk-toggleable__label-arrow:hover:before {color: black;}#sk-container-id-2 div.sk-estimator:hover label.sk-toggleable__label-arrow:before {color: black;}#sk-container-id-2 div.sk-toggleable__content {max-height: 0;max-width: 0;overflow: hidden;text-align: left;background-color: #f0f8ff;}#sk-container-id-2 div.sk-toggleable__content pre {margin: 0.2em;color: black;border-radius: 0.25em;background-color: #f0f8ff;}#sk-container-id-2 input.sk-toggleable__control:checked~div.sk-toggleable__content {max-height: 200px;max-width: 100%;overflow: auto;}#sk-container-id-2 input.sk-toggleable__control:checked~label.sk-toggleable__label-arrow:before {content: \"▾\";}#sk-container-id-2 div.sk-estimator input.sk-toggleable__control:checked~label.sk-toggleable__label {background-color: #d4ebff;}#sk-container-id-2 div.sk-label input.sk-toggleable__control:checked~label.sk-toggleable__label {background-color: #d4ebff;}#sk-container-id-2 input.sk-hidden--visually {border: 0;clip: rect(1px 1px 1px 1px);clip: rect(1px, 1px, 1px, 1px);height: 1px;margin: -1px;overflow: hidden;padding: 0;position: absolute;width: 1px;}#sk-container-id-2 div.sk-estimator {font-family: monospace;background-color: #f0f8ff;border: 1px dotted black;border-radius: 0.25em;box-sizing: border-box;margin-bottom: 0.5em;}#sk-container-id-2 div.sk-estimator:hover {background-color: #d4ebff;}#sk-container-id-2 div.sk-parallel-item::after {content: \"\";width: 100%;border-bottom: 1px solid gray;flex-grow: 1;}#sk-container-id-2 div.sk-label:hover label.sk-toggleable__label {background-color: #d4ebff;}#sk-container-id-2 div.sk-serial::before {content: \"\";position: absolute;border-left: 1px solid gray;box-sizing: border-box;top: 0;bottom: 0;left: 50%;z-index: 0;}#sk-container-id-2 div.sk-serial {display: flex;flex-direction: column;align-items: center;background-color: white;padding-right: 0.2em;padding-left: 0.2em;position: relative;}#sk-container-id-2 div.sk-item {position: relative;z-index: 1;}#sk-container-id-2 div.sk-parallel {display: flex;align-items: stretch;justify-content: center;background-color: white;position: relative;}#sk-container-id-2 div.sk-item::before, #sk-container-id-2 div.sk-parallel-item::before {content: \"\";position: absolute;border-left: 1px solid gray;box-sizing: border-box;top: 0;bottom: 0;left: 50%;z-index: -1;}#sk-container-id-2 div.sk-parallel-item {display: flex;flex-direction: column;z-index: 1;position: relative;background-color: white;}#sk-container-id-2 div.sk-parallel-item:first-child::after {align-self: flex-end;width: 50%;}#sk-container-id-2 div.sk-parallel-item:last-child::after {align-self: flex-start;width: 50%;}#sk-container-id-2 div.sk-parallel-item:only-child::after {width: 0;}#sk-container-id-2 div.sk-dashed-wrapped {border: 1px dashed gray;margin: 0 0.4em 0.5em 0.4em;box-sizing: border-box;padding-bottom: 0.4em;background-color: white;}#sk-container-id-2 div.sk-label label {font-family: monospace;font-weight: bold;display: inline-block;line-height: 1.2em;}#sk-container-id-2 div.sk-label-container {text-align: center;}#sk-container-id-2 div.sk-container {/* jupyter's `normalize.less` sets `[hidden] { display: none; }` but bootstrap.min.css set `[hidden] { display: none !important; }` so we also need the `!important` here to be able to override the default hidden behavior on the sphinx rendered scikit-learn.org. See: https://github.com/scikit-learn/scikit-learn/issues/21755 */display: inline-block !important;position: relative;}#sk-container-id-2 div.sk-text-repr-fallback {display: none;}</style><div id=\"sk-container-id-2\" class=\"sk-top-container\"><div class=\"sk-text-repr-fallback\"><pre>LinearRegression()</pre><b>In a Jupyter environment, please rerun this cell to show the HTML representation or trust the notebook. <br />On GitHub, the HTML representation is unable to render, please try loading this page with nbviewer.org.</b></div><div class=\"sk-container\" hidden><div class=\"sk-item\"><div class=\"sk-estimator sk-toggleable\"><input class=\"sk-toggleable__control sk-hidden--visually\" id=\"sk-estimator-id-2\" type=\"checkbox\" checked><label for=\"sk-estimator-id-2\" class=\"sk-toggleable__label sk-toggleable__label-arrow\">LinearRegression</label><div class=\"sk-toggleable__content\"><pre>LinearRegression()</pre></div></div></div></div></div>"
      ],
      "text/plain": [
       "LinearRegression()"
      ]
     },
     "execution_count": 34,
     "metadata": {},
     "output_type": "execute_result"
    }
   ],
   "source": [
    "reglin.fit(x_train, y_train)"
   ]
  },
  {
   "cell_type": "markdown",
   "id": "12c15fc6",
   "metadata": {},
   "source": [
    "Cuando se llama a reglin.fit(x_train, y_train), el modelo de regresión lineal utiliza los datos proporcionados en x_train y y_train para aprender los coeficientes y parámetros que mejor se ajustan a los datos de entrenamiento. En otras palabras, el modelo encuentra la línea recta que mejor se ajusta a los puntos de datos en el espacio de características para minimizar el error cuadrático medio (MSE) entre las predicciones del modelo y los valores reales en y_train.\n",
    "\n",
    "Después de ajustar el modelo, puedes usarlo para realizar predicciones en datos nuevos o de prueba utilizando el método predict. Por ejemplo:"
   ]
  },
  {
   "cell_type": "code",
   "execution_count": 35,
   "id": "917d8fc5",
   "metadata": {},
   "outputs": [],
   "source": [
    "y_pred = reglin.predict(x_train)"
   ]
  },
  {
   "cell_type": "markdown",
   "id": "ae3ef2e0",
   "metadata": {},
   "source": [
    "A continuación mostraremos los datos obtenidos, como el coeficiente, término independiente, el mean squared error y el puntaje de varianza.Todos ellos son propiedades el modelo de regresión lineal:"
   ]
  },
  {
   "cell_type": "code",
   "execution_count": 36,
   "id": "1b0edaac",
   "metadata": {},
   "outputs": [
    {
     "name": "stdout",
     "output_type": "stream",
     "text": [
      "Coeficientes: \n",
      " [5.69765366]\n",
      "Término independiente: \n",
      " 11200.303223074163\n",
      "Error cuadrado medio: 0.06\n",
      "Puntaje de varianza, el mejor puntaje es de 1.0: \n"
     ]
    }
   ],
   "source": [
    "print('Coeficientes: \\n', reglin.coef_)\n",
    "print('Término independiente: \\n', reglin.intercept_)\n",
    "print(\"Error cuadrado medio: %.2f\" % r2_score(y_train, y_pred))\n",
    "print(\"Puntaje de varianza, el mejor puntaje es de 1.0: \" % r2_score(y_train, y_pred))"
   ]
  },
  {
   "cell_type": "markdown",
   "id": "ad8668c0",
   "metadata": {},
   "source": [
    "Predicción de cuántos \"Share\" tendrá por un artículo de 2000 palabras, según el modelo:"
   ]
  },
  {
   "cell_type": "code",
   "execution_count": 38,
   "id": "755ec03f",
   "metadata": {},
   "outputs": [
    {
     "name": "stdout",
     "output_type": "stream",
     "text": [
      "22595\n"
     ]
    }
   ],
   "source": [
    "y_Dosmil = reglin.predict([[2000]])\n",
    "print(int(y_Dosmil))"
   ]
  },
  {
   "cell_type": "markdown",
   "id": "db884688",
   "metadata": {},
   "source": [
    "Nuestro modelo funciona, sin embargo puede ser mejor, actualmente solo tiene dos dimensiones, una que es las características del entrenamiento y otro con los objetivos del entrenamiento. Sin embargo, para mejorar esto lo que haremos será aumentar una dimensión. \n",
    "\n",
    "Para poder graficar en 3D, haremos una variable nueva que será la suma de los enlaces, comentarios e imágenes:"
   ]
  },
  {
   "cell_type": "code",
   "execution_count": 39,
   "id": "6dd2f015",
   "metadata": {},
   "outputs": [],
   "source": [
    "suma = (filtered_data[\"# of Links\"] + filtered_data['# of comments'].fillna(0) + filtered_data['# Images video'])"
   ]
  },
  {
   "cell_type": "markdown",
   "id": "b92dd34e",
   "metadata": {},
   "source": [
    "Una vez sumados lo que haremos será crear un dataFrame llamado dataX2, después a su columna Word count le asignamos los resutlados de la columna \"Word count\" de filtered_data. Después asignamos a la columna suma los registros de la variable suma de arriba."
   ]
  },
  {
   "cell_type": "code",
   "execution_count": 40,
   "id": "a40a0837",
   "metadata": {},
   "outputs": [],
   "source": [
    "dataX2 = pd.DataFrame()\n",
    "dataX2[\"Word count\"] = filtered_data[\"Word count\"]\n",
    "dataX2[\"suma\"] = suma"
   ]
  },
  {
   "cell_type": "markdown",
   "id": "1f4e71cb",
   "metadata": {},
   "source": [
    "Después creamos un array de pandas con los valores de dataX2, este nuevo array será el que utilizaremos para entrenar el modelo y lo llamaremos XY_train. Después creamos una variable z_train que contendrá los valores de la columna filtered_data['# Shares']."
   ]
  },
  {
   "cell_type": "code",
   "execution_count": 41,
   "id": "654680dd",
   "metadata": {},
   "outputs": [],
   "source": [
    "XY_train = np.array(dataX2)\n",
    "z_train = filtered_data['# Shares'].values"
   ]
  },
  {
   "cell_type": "markdown",
   "id": "ad358313",
   "metadata": {},
   "source": [
    "Creamos un nuevo objeto de regresión linea, al objeto lo entrenamos con las variables XY_train y el Z_train, para que después podamos hacer la predicción:"
   ]
  },
  {
   "cell_type": "code",
   "execution_count": 43,
   "id": "05f856cb",
   "metadata": {},
   "outputs": [],
   "source": [
    "reglin2 = linear_model.LinearRegression()\n",
    "reglin2.fit(XY_train, z_train)\n",
    "\n",
    "z_pred = reglin2.predict(XY_train)"
   ]
  },
  {
   "cell_type": "code",
   "execution_count": 51,
   "id": "3ffaa6fa",
   "metadata": {},
   "outputs": [
    {
     "name": "stdout",
     "output_type": "stream",
     "text": [
      "21484\n"
     ]
    }
   ],
   "source": [
    "ejemplo_prediccion = np.array([[2000, 18]])\n",
    "y_Dosmil = reglin2.predict(ejemplo_prediccion)\n",
    "print(int(y_Dosmil))"
   ]
  },
  {
   "cell_type": "markdown",
   "id": "8a39257f",
   "metadata": {},
   "source": [
    "# Entrenamientos de Tarea\n",
    "\n",
    "## '# Shares' a partir de '# of Links'"
   ]
  },
  {
   "cell_type": "code",
   "execution_count": 54,
   "id": "6b258c5e",
   "metadata": {},
   "outputs": [
    {
     "data": {
      "text/plain": [
       "Links\n",
       "3      22\n",
       "1      21\n",
       "6      19\n",
       "5      18\n",
       "8      16\n",
       "2      15\n",
       "4      15\n",
       "7      11\n",
       "10      7\n",
       "9       2\n",
       "0       2\n",
       "30      2\n",
       "21      1\n",
       "600     1\n",
       "13      1\n",
       "39      1\n",
       "32      1\n",
       "20      1\n",
       "22      1\n",
       "11      1\n",
       "12      1\n",
       "15      1\n",
       "49      1\n",
       "Name: count, dtype: int64"
      ]
     },
     "execution_count": 54,
     "metadata": {},
     "output_type": "execute_result"
    }
   ],
   "source": [
    "data.dtypes\n",
    "nuevoData = pd.DataFrame()\n",
    "nuevoData[\"Links\"] = data[\"# of Links\"]\n",
    "nuevoData.Links.value_counts()"
   ]
  },
  {
   "cell_type": "code",
   "execution_count": 93,
   "id": "ec9bd6cf",
   "metadata": {},
   "outputs": [
    {
     "name": "stdout",
     "output_type": "stream",
     "text": [
      "22265\n"
     ]
    }
   ],
   "source": [
    "filtered_data_links = data[(data['# of Links'] <= 8) & (data['# Shares'] <= 80000)]\n",
    "\n",
    "dataX_links = filtered_data_links[[\"# of Links\"]]\n",
    "x_train_links = np.array(dataX_links)\n",
    "y_train_links = filtered_data_links['# Shares'].values\n",
    "\n",
    "reglin_links = linear_model.LinearRegression()\n",
    "reglin_links.fit(x_train_links, y_train_links)\n",
    "y_pred_links = reglin_links.predict(x_train_links)\n",
    "\n",
    "ejemplo_prediccion = np.array([[6]])\n",
    "y_SeisLinks = reglin_links.predict(ejemplo_prediccion)\n",
    "print(int(y_SeisLinks))"
   ]
  },
  {
   "cell_type": "markdown",
   "id": "9b11b270",
   "metadata": {},
   "source": [
    "## '# Shares' a partir de '# of comments'"
   ]
  },
  {
   "cell_type": "code",
   "execution_count": 95,
   "id": "1a6c445a",
   "metadata": {},
   "outputs": [
    {
     "data": {
      "text/plain": [
       "Comments\n",
       "0.0      19\n",
       "5.0      10\n",
       "8.0      10\n",
       "1.0       9\n",
       "12.0      8\n",
       "3.0       8\n",
       "13.0      8\n",
       "14.0      8\n",
       "6.0       7\n",
       "7.0       7\n",
       "4.0       6\n",
       "2.0       6\n",
       "11.0      5\n",
       "10.0      5\n",
       "9.0       3\n",
       "23.0      2\n",
       "19.0      1\n",
       "27.0      1\n",
       "29.0      1\n",
       "95.0      1\n",
       "28.0      1\n",
       "21.0      1\n",
       "30.0      1\n",
       "104.0     1\n",
       "Name: count, dtype: int64"
      ]
     },
     "execution_count": 95,
     "metadata": {},
     "output_type": "execute_result"
    }
   ],
   "source": [
    "data.dtypes\n",
    "nuevoData = pd.DataFrame()\n",
    "nuevoData[\"Comments\"] = data[\"# of comments\"]\n",
    "nuevoData.Comments.value_counts()"
   ]
  },
  {
   "cell_type": "code",
   "execution_count": 98,
   "id": "b66a64b5",
   "metadata": {},
   "outputs": [
    {
     "name": "stdout",
     "output_type": "stream",
     "text": [
      "20640\n"
     ]
    }
   ],
   "source": [
    "filtered_data_comments = data[(data['# of comments'] <= 15) & (data['# Shares'] <= 80000)]\n",
    "\n",
    "dataX_comments = filtered_data_comments[[\"# of Links\"]]\n",
    "x_train_comments = np.array(dataX_comments)\n",
    "y_train_comments = filtered_data_comments['# Shares'].values\n",
    "\n",
    "reglin_comments = linear_model.LinearRegression()\n",
    "reglin_comments.fit(x_train_comments, y_train_comments)\n",
    "y_pred_comments = reglin_comments.predict(x_train_comments)\n",
    "\n",
    "ejemplo_prediccion = np.array([[6]])\n",
    "y_SeisComments = reglin_comments.predict(ejemplo_prediccion)\n",
    "print(int(y_SeisComments))"
   ]
  },
  {
   "cell_type": "markdown",
   "id": "bfb2a970",
   "metadata": {},
   "source": [
    "## '# Shares' a partir de '# Images video'"
   ]
  },
  {
   "cell_type": "code",
   "execution_count": 99,
   "id": "544764ca",
   "metadata": {},
   "outputs": [
    {
     "data": {
      "text/plain": [
       "Images\n",
       "1     41\n",
       "2     36\n",
       "4     22\n",
       "6     21\n",
       "3     20\n",
       "5      7\n",
       "9      3\n",
       "10     3\n",
       "8      2\n",
       "15     1\n",
       "21     1\n",
       "20     1\n",
       "11     1\n",
       "22     1\n",
       "7      1\n",
       "Name: count, dtype: int64"
      ]
     },
     "execution_count": 99,
     "metadata": {},
     "output_type": "execute_result"
    }
   ],
   "source": [
    "data.dtypes\n",
    "nuevoData = pd.DataFrame()\n",
    "nuevoData[\"Images\"] = data[\"# Images video\"]\n",
    "nuevoData.Images.value_counts()"
   ]
  },
  {
   "cell_type": "code",
   "execution_count": 102,
   "id": "5ff88a7b",
   "metadata": {},
   "outputs": [
    {
     "name": "stdout",
     "output_type": "stream",
     "text": [
      "18538\n"
     ]
    }
   ],
   "source": [
    "filtered_data_images = data[(data['# Images video'] <= 10) & (data['# Shares'] <= 80000)]\n",
    "\n",
    "dataX_images = filtered_data_images[[\"# Images video\"]]\n",
    "x_train_images = np.array(dataX_images)\n",
    "y_train_images = filtered_data_images['# Shares'].values\n",
    "\n",
    "reglin_images = linear_model.LinearRegression()\n",
    "reglin_images.fit(x_train_images, y_train_images)\n",
    "y_pred_images = reglin_images.predict(x_train_images)\n",
    "\n",
    "ejemplo_prediccion = np.array([[6]])\n",
    "y_SeisImages = reglin_images.predict(ejemplo_prediccion)\n",
    "print(int(y_SeisImages))"
   ]
  },
  {
   "cell_type": "markdown",
   "id": "bee3c900",
   "metadata": {},
   "source": [
    "## '# Shares' a partir de 'Elapsed days'"
   ]
  },
  {
   "cell_type": "code",
   "execution_count": 105,
   "id": "ce762f6c",
   "metadata": {},
   "outputs": [
    {
     "data": {
      "text/plain": [
       "Elapsed\n",
       "60     3\n",
       "127    3\n",
       "62     3\n",
       "61     2\n",
       "18     2\n",
       "      ..\n",
       "345    1\n",
       "237    1\n",
       "250    1\n",
       "265    1\n",
       "88     1\n",
       "Name: count, Length: 133, dtype: int64"
      ]
     },
     "execution_count": 105,
     "metadata": {},
     "output_type": "execute_result"
    }
   ],
   "source": [
    "data.dtypes\n",
    "nuevoData = pd.DataFrame()\n",
    "nuevoData[\"Elapsed\"] = data[\"Elapsed days\"]\n",
    "nuevoData.Elapsed.value_counts()"
   ]
  },
  {
   "cell_type": "code",
   "execution_count": 104,
   "id": "88025c30",
   "metadata": {},
   "outputs": [
    {
     "name": "stdout",
     "output_type": "stream",
     "text": [
      "25484\n"
     ]
    }
   ],
   "source": [
    "filtered_data_elapsed = data[(data['Elapsed days'] <= 10) & (data['# Shares'] <= 80000)]\n",
    "\n",
    "dataX_elapsed = filtered_data_elapsed[[\"Elapsed days\"]]\n",
    "x_train_elapsed = np.array(dataX_elapsed)\n",
    "y_train_elapsed = filtered_data_elapsed['# Shares'].values\n",
    "\n",
    "reglin_elapsed = linear_model.LinearRegression()\n",
    "reglin_elapsed.fit(x_train_elapsed, y_train_elapsed)\n",
    "y_pred_elapsed = reglin_elapsed.predict(x_train_elapsed)\n",
    "\n",
    "ejemplo_prediccion = np.array([[6]])\n",
    "y_SeisElapsed = reglin_elapsed.predict(ejemplo_prediccion)\n",
    "print(int(y_SeisElapsed))"
   ]
  },
  {
   "cell_type": "code",
   "execution_count": null,
   "id": "85cef9ca",
   "metadata": {},
   "outputs": [],
   "source": []
  }
 ],
 "metadata": {
  "kernelspec": {
   "display_name": "Python 3 (ipykernel)",
   "language": "python",
   "name": "python3"
  },
  "language_info": {
   "codemirror_mode": {
    "name": "ipython",
    "version": 3
   },
   "file_extension": ".py",
   "mimetype": "text/x-python",
   "name": "python",
   "nbconvert_exporter": "python",
   "pygments_lexer": "ipython3",
   "version": "3.8.18"
  }
 },
 "nbformat": 4,
 "nbformat_minor": 5
}
